{
 "cells": [
  {
   "cell_type": "code",
   "execution_count": 1,
   "metadata": {},
   "outputs": [],
   "source": [
    "import numpy as np\n",
    "\n"
   ]
  },
  {
   "cell_type": "code",
   "execution_count": 2,
   "metadata": {},
   "outputs": [],
   "source": [
    "N=100\n",
    "D=2\n",
    "\n",
    "X = np.random.randn(N,D)\n"
   ]
  },
  {
   "cell_type": "code",
   "execution_count": 3,
   "metadata": {},
   "outputs": [],
   "source": [
    "# center the first 50 points at (-2,-2)\n",
    "\n",
    "X[:50,:] = X[:50,:] - 2*np.ones((50,D)) #-2*np.ones((50,D)) is a matrix 50xD of -2's therefore is \n",
    "#centered at (-2,-2) \n",
    "\n",
    "# center the last 50 points at (2, 2)\n",
    "X[50:,:] = X[50:,:] + 2*np.ones((50,D))#-2*np.ones((50,D)) is a matrix 50xD of 2's therefore is \n",
    "#centered at (2,2)\n",
    "\n",
    "# Targets: first 50 are 0, last 50 are 1\n",
    "T = np.array([0]*50 + [1]*50)\n",
    "\n",
    "# Add a column of ones for the bias term\n",
    "ones = np.ones((N, 1))\n",
    "Xb = np.concatenate((ones, X), axis=1) #Change the size of X, to include the bias term\n",
    "\n",
    "# randomly initialize the weights\n",
    "w = np.random.randn(D + 1)"
   ]
  },
  {
   "cell_type": "code",
   "execution_count": 5,
   "metadata": {},
   "outputs": [
    {
     "name": "stdout",
     "output_type": "stream",
     "text": [
      "9.270356828408286\n"
     ]
    }
   ],
   "source": [
    "\n",
    "# calculate the model output\n",
    "z = Xb.dot(w)\n",
    "\n",
    "def sigmoid(z):\n",
    "    return 1/(1 + np.exp(-z))\n",
    "\n",
    "Y = sigmoid(z)\n",
    "\n",
    "# calculate the cross-entropy error\n",
    "def cross_entropy(T, Y):\n",
    "    E = 0\n",
    "    for i in range(len(T)):\n",
    "        if T[i] == 1:\n",
    "            E -= np.log(Y[i])\n",
    "        else:\n",
    "            E -= np.log(1 - Y[i])\n",
    "    return E\n",
    "\n",
    "print(cross_entropy(T, Y))"
   ]
  },
  {
   "cell_type": "code",
   "execution_count": 6,
   "metadata": {},
   "outputs": [
    {
     "name": "stdout",
     "output_type": "stream",
     "text": [
      "0.018955272865611977\n"
     ]
    }
   ],
   "source": [
    "# try it with our closed-form solution\n",
    "w = np.array([0, 4, 4]) #This is because 2-(-2)=4, 2-(-2)=4, and b because the gaussians have\n",
    "#the same amount of samples\n",
    "\n",
    "# calculate the model output\n",
    "z = Xb.dot(w)\n",
    "Y = sigmoid(z)\n",
    "\n",
    "# calculate the cross-entropy error\n",
    "print(cross_entropy(T, Y))"
   ]
  },
  {
   "cell_type": "markdown",
   "metadata": {},
   "source": [
    "The error changes a lot!"
   ]
  }
 ],
 "metadata": {
  "kernelspec": {
   "display_name": "Python 3.10.1 64-bit",
   "language": "python",
   "name": "python3"
  },
  "language_info": {
   "codemirror_mode": {
    "name": "ipython",
    "version": 3
   },
   "file_extension": ".py",
   "mimetype": "text/x-python",
   "name": "python",
   "nbconvert_exporter": "python",
   "pygments_lexer": "ipython3",
   "version": "3.10.1"
  },
  "orig_nbformat": 4,
  "vscode": {
   "interpreter": {
    "hash": "5d5f6d68acdb98a666ac6cbb620ba0c7fef50210cfb22291f01e0bec12f8d8de"
   }
  }
 },
 "nbformat": 4,
 "nbformat_minor": 2
}
