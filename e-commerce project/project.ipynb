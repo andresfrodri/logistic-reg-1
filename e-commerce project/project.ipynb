{
 "cells": [
  {
   "cell_type": "code",
   "execution_count": 9,
   "metadata": {},
   "outputs": [],
   "source": [
    "import numpy as np\n",
    "import pandas as pd\n",
    "\n"
   ]
  },
  {
   "cell_type": "code",
   "execution_count": 15,
   "metadata": {},
   "outputs": [],
   "source": [
    "def get_data():\n",
    "  df = pd.read_csv('ecommerce_data.csv')\n",
    "  # easier to work with numpy array\n",
    "  data = df.values\n",
    "  # shuffle it\n",
    "  np.random.shuffle(data)\n",
    "\n",
    "  # split features and labels\n",
    "  X = data[:,:-1]\n",
    "  Y = data[:,-1].astype(np.int32)\n",
    "\n",
    "  # one-hot encode the categorical data\n",
    "  # create a new matrix X2 with the correct number of columns\n",
    "  N, D = X.shape\n",
    "  X2 = np.zeros((N, D+3))\n",
    "  X2[:,0:(D-1)] = X[:,0:(D-1)] # non-categorical\n",
    "\n",
    "  # one-hot\n",
    "  for n in range(N):\n",
    "      t = int(X[n,D-1])\n",
    "      X2[n,t+D-1] = 1\n",
    "\n",
    "  # assign X2 back to X, since we don't need original anymore\n",
    "  X = X2\n",
    "\n",
    "  # split train and test\n",
    "  Xtrain = X[:-100]\n",
    "  Ytrain = Y[:-100]\n",
    "  Xtest = X[-100:]\n",
    "  Ytest = Y[-100:]\n",
    "\n",
    "  # normalize columns 1 and 2\n",
    "  for i in (1, 2):\n",
    "    m = Xtrain[:,i].mean()\n",
    "    s = Xtrain[:,i].std()\n",
    "    Xtrain[:,i] = (Xtrain[:,i] - m) / s\n",
    "    Xtest[:,i] = (Xtest[:,i] - m) / s\n",
    "\n",
    "  return Xtrain, Ytrain, Xtest, Ytest\n",
    "\n",
    "\n",
    "def get_binary_data():\n",
    "  # return only the data from the first 2 classes\n",
    "  Xtrain, Ytrain, Xtest, Ytest = get_data()\n",
    "  X2train = Xtrain[Ytrain <= 1]\n",
    "  Y2train = Ytrain[Ytrain <= 1]\n",
    "  X2test = Xtest[Ytest <= 1]\n",
    "  Y2test = Ytest[Ytest <= 1]\n",
    "  return X2train, Y2train, X2test, Y2test"
   ]
  },
  {
   "cell_type": "code",
   "execution_count": 17,
   "metadata": {},
   "outputs": [],
   "source": [
    "X_train, Y_train, X_test, Y_test = get_binary_data()"
   ]
  },
  {
   "cell_type": "code",
   "execution_count": 18,
   "metadata": {},
   "outputs": [
    {
     "name": "stdout",
     "output_type": "stream",
     "text": [
      "Score: 0.4503105590062112\n"
     ]
    }
   ],
   "source": [
    "D = X_train.shape[1]\n",
    "W = np.random.randn(D)\n",
    "b = 0 # bias term\n",
    "\n",
    "# make predictions\n",
    "def sigmoid(a):\n",
    "    return 1 / (1 + np.exp(-a))\n",
    "\n",
    "def forward(X, W, b):\n",
    "    return sigmoid(X.dot(W) + b)\n",
    "\n",
    "P_Y_given_X = forward(X_train, W, b)\n",
    "predictions = np.round(P_Y_given_X)\n",
    "\n",
    "# calculate the accuracy\n",
    "def classification_rate(Y, P):\n",
    "    return np.mean(Y == P)\n",
    "\n",
    "print(\"Score:\", classification_rate(Y_train, predictions))"
   ]
  },
  {
   "cell_type": "markdown",
   "metadata": {},
   "source": [
    "Not that good, but this means that we need a way to find the correct values of $w_i$"
   ]
  }
 ],
 "metadata": {
  "kernelspec": {
   "display_name": "Python 3.10.1 64-bit",
   "language": "python",
   "name": "python3"
  },
  "language_info": {
   "codemirror_mode": {
    "name": "ipython",
    "version": 3
   },
   "file_extension": ".py",
   "mimetype": "text/x-python",
   "name": "python",
   "nbconvert_exporter": "python",
   "pygments_lexer": "ipython3",
   "version": "3.10.1"
  },
  "orig_nbformat": 4,
  "vscode": {
   "interpreter": {
    "hash": "5d5f6d68acdb98a666ac6cbb620ba0c7fef50210cfb22291f01e0bec12f8d8de"
   }
  }
 },
 "nbformat": 4,
 "nbformat_minor": 2
}
