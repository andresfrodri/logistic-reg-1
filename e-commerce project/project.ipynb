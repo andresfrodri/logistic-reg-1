{
 "cells": [
  {
   "cell_type": "code",
   "execution_count": 1,
   "metadata": {},
   "outputs": [],
   "source": [
    "import numpy as np\n",
    "import pandas as pd\n",
    "\n"
   ]
  },
  {
   "cell_type": "code",
   "execution_count": 5,
   "metadata": {},
   "outputs": [],
   "source": [
    "def get_data():\n",
    "    df = pd.read_csv('ecommerce_data.csv') #Get the data\n",
    "    data = df.as_matrix()                  #Transform the data into a nunpy array\n",
    "    #Split the data   \n",
    "    X = data[:, :-1]\n",
    "    Y = data[:,-1]\n",
    "    #Let's normalize the numerical columns\n",
    "    X[:,1] = (X[:,1] -  X[:,1].mean()/X[:,1].std())\n",
    "    X[:,2] = (X[:,2] -  X[:,2].mean()/X[:,2].std())\n",
    "\n",
    "    #Let's work on the categorical column \n",
    "    N, D = X.shape()\n",
    "    X2 = np.zeros((N, D+3)) #d+3 bc we have 4 different categorical values\n",
    "    X2[:,0:(D-1)] = X[:,0:(D-1)]\n",
    "    #Using hot key encoding\n",
    "    for n in range(N):\n",
    "        time_day = int(X[n,D-1])\n",
    "        X2[n, time_day+D-1]= 1\n",
    "    Z = np.zeros((N,4))\n",
    "    Z[np.arange(N), X[:,D-1].astype(np.int32)] = 1\n",
    "    assert(np.abs(X2[:,-4:]- Z).sum()<10e-10)\n",
    "    return X2, Y\n",
    "\n",
    "def get_binary_data():\n",
    "    X, Y = get_data() #To filter only taking classes 0 and 1\n",
    "    X2 = X[Y <= 1]\n",
    "    Y2 = Y[Y <= 1]\n",
    "    return X2, Y2\n"
   ]
  }
 ],
 "metadata": {
  "kernelspec": {
   "display_name": "Python 3.10.1 64-bit",
   "language": "python",
   "name": "python3"
  },
  "language_info": {
   "codemirror_mode": {
    "name": "ipython",
    "version": 3
   },
   "file_extension": ".py",
   "mimetype": "text/x-python",
   "name": "python",
   "nbconvert_exporter": "python",
   "pygments_lexer": "ipython3",
   "version": "3.10.1"
  },
  "orig_nbformat": 4,
  "vscode": {
   "interpreter": {
    "hash": "5d5f6d68acdb98a666ac6cbb620ba0c7fef50210cfb22291f01e0bec12f8d8de"
   }
  }
 },
 "nbformat": 4,
 "nbformat_minor": 2
}
