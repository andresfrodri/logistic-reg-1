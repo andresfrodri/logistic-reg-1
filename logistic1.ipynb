{
 "cells": [
  {
   "cell_type": "code",
   "execution_count": 1,
   "metadata": {},
   "outputs": [],
   "source": [
    "import numpy as np"
   ]
  },
  {
   "cell_type": "code",
   "execution_count": 4,
   "metadata": {},
   "outputs": [],
   "source": [
    "#Adding some data to make the prediction later on\n",
    "N = 100 #100 Samples\n",
    "D = 2 #Dimension\n",
    "\n",
    "#In a matrix:\n",
    "X = np.random.randn(N,D)"
   ]
  },
  {
   "cell_type": "code",
   "execution_count": 6,
   "metadata": {},
   "outputs": [],
   "source": [
    "#Adding the bias term\n",
    "ones=np.array([[1]*N]).T\n",
    "Xb = np.concatenate((ones, X), axis=1)"
   ]
  },
  {
   "cell_type": "code",
   "execution_count": 7,
   "metadata": {},
   "outputs": [],
   "source": [
    "#Randomly initialize the weight vector\n",
    "\n",
    "w = np.random.randn(D+1)\n",
    "\n",
    "z = Xb.dot(w)"
   ]
  },
  {
   "cell_type": "code",
   "execution_count": 8,
   "metadata": {},
   "outputs": [],
   "source": [
    "#Let's apply the sigmoid\n",
    "\n",
    "def sigmoid(z):\n",
    "    return 1/(1+np.exp(-z))"
   ]
  },
  {
   "cell_type": "code",
   "execution_count": 9,
   "metadata": {},
   "outputs": [
    {
     "name": "stdout",
     "output_type": "stream",
     "text": [
      "[0.28995184 0.87152523 0.5790296  0.82152764 0.94479241 0.72557182\n",
      " 0.54930108 0.9245827  0.86824898 0.97504159 0.87484668 0.73016301\n",
      " 0.31583177 0.86949176 0.89198076 0.89554226 0.40465196 0.57803965\n",
      " 0.81004297 0.58723589 0.87653873 0.90235485 0.74752591 0.95048041\n",
      " 0.36535811 0.93712043 0.89854275 0.71192279 0.84248178 0.90372189\n",
      " 0.99524116 0.1481313  0.84455864 0.409609   0.96639495 0.87768417\n",
      " 0.45728024 0.76563822 0.76602511 0.93435947 0.59088771 0.382551\n",
      " 0.78310793 0.77778342 0.59342607 0.7974305  0.62747703 0.958329\n",
      " 0.13341472 0.83057693 0.97120984 0.67323881 0.90076998 0.90427709\n",
      " 0.60867391 0.88014996 0.85072226 0.31533942 0.91244622 0.94674245\n",
      " 0.12709696 0.8401345  0.93347704 0.89364594 0.94804688 0.49799527\n",
      " 0.47023454 0.9221295  0.92250846 0.84976567 0.73004444 0.69165105\n",
      " 0.76514995 0.74055573 0.70919579 0.5604261  0.82949324 0.90036814\n",
      " 0.78538134 0.83045096 0.7628619  0.91324106 0.97663116 0.94808608\n",
      " 0.90780123 0.83990932 0.84739505 0.91657946 0.48867678 0.65652499\n",
      " 0.65401795 0.74176318 0.83709442 0.54783397 0.85121265 0.83676882\n",
      " 0.60587268 0.64189756 0.97375175 0.92096893]\n"
     ]
    }
   ],
   "source": [
    "print(sigmoid(z))"
   ]
  }
 ],
 "metadata": {
  "kernelspec": {
   "display_name": "Python 3.10.1 64-bit",
   "language": "python",
   "name": "python3"
  },
  "language_info": {
   "codemirror_mode": {
    "name": "ipython",
    "version": 3
   },
   "file_extension": ".py",
   "mimetype": "text/x-python",
   "name": "python",
   "nbconvert_exporter": "python",
   "pygments_lexer": "ipython3",
   "version": "3.10.1"
  },
  "orig_nbformat": 4,
  "vscode": {
   "interpreter": {
    "hash": "5d5f6d68acdb98a666ac6cbb620ba0c7fef50210cfb22291f01e0bec12f8d8de"
   }
  }
 },
 "nbformat": 4,
 "nbformat_minor": 2
}
