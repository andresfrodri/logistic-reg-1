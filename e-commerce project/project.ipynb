{
 "cells": [
  {
   "cell_type": "code",
   "execution_count": 11,
   "metadata": {},
   "outputs": [],
   "source": [
    "import numpy as np\n",
    "import pandas as pd\n",
    "import matplotlib.pyplot as plt\n"
   ]
  },
  {
   "cell_type": "code",
   "execution_count": 12,
   "metadata": {},
   "outputs": [],
   "source": [
    "def get_data():\n",
    "  df = pd.read_csv('ecommerce_data.csv')\n",
    "  # easier to work with numpy array\n",
    "  data = df.values\n",
    "  # shuffle it\n",
    "  np.random.shuffle(data)\n",
    "\n",
    "  # split features and labels\n",
    "  X = data[:,:-1]\n",
    "  Y = data[:,-1].astype(np.int32)\n",
    "\n",
    "  # one-hot encode the categorical data\n",
    "  # create a new matrix X2 with the correct number of columns\n",
    "  N, D = X.shape\n",
    "  X2 = np.zeros((N, D+3))\n",
    "  X2[:,0:(D-1)] = X[:,0:(D-1)] # non-categorical\n",
    "\n",
    "  # one-hot\n",
    "  for n in range(N):\n",
    "      t = int(X[n,D-1])\n",
    "      X2[n,t+D-1] = 1\n",
    "\n",
    "  # assign X2 back to X, since we don't need original anymore\n",
    "  X = X2\n",
    "\n",
    "  # split train and test\n",
    "  Xtrain = X[:-100]\n",
    "  Ytrain = Y[:-100]\n",
    "  Xtest = X[-100:]\n",
    "  Ytest = Y[-100:]\n",
    "\n",
    "  # normalize columns 1 and 2\n",
    "  for i in (1, 2):\n",
    "    m = Xtrain[:,i].mean()\n",
    "    s = Xtrain[:,i].std()\n",
    "    Xtrain[:,i] = (Xtrain[:,i] - m) / s\n",
    "    Xtest[:,i] = (Xtest[:,i] - m) / s\n",
    "\n",
    "  return Xtrain, Ytrain, Xtest, Ytest\n",
    "\n",
    "\n",
    "def get_binary_data():\n",
    "  # return only the data from the first 2 classes\n",
    "  Xtrain, Ytrain, Xtest, Ytest = get_data()\n",
    "  X2train = Xtrain[Ytrain <= 1]\n",
    "  Y2train = Ytrain[Ytrain <= 1]\n",
    "  X2test = Xtest[Ytest <= 1]\n",
    "  Y2test = Ytest[Ytest <= 1]\n",
    "  return X2train, Y2train, X2test, Y2test"
   ]
  },
  {
   "cell_type": "code",
   "execution_count": 13,
   "metadata": {},
   "outputs": [],
   "source": [
    "X_train, Y_train, X_test, Y_test = get_binary_data()"
   ]
  },
  {
   "cell_type": "code",
   "execution_count": 14,
   "metadata": {},
   "outputs": [
    {
     "name": "stdout",
     "output_type": "stream",
     "text": [
      "Score: 0.4037854889589905\n"
     ]
    }
   ],
   "source": [
    "D = X_train.shape[1]\n",
    "w = np.random.randn(D)\n",
    "b = 0 # bias term\n",
    "\n",
    "# make predictions\n",
    "def sigmoid(a):\n",
    "    return 1 / (1 + np.exp(-a))\n",
    "\n",
    "def forward(X, W, b):\n",
    "    return sigmoid(X.dot(W) + b)\n",
    "\n",
    "P_Y_given_X = forward(X_train, w, b)\n",
    "predictions = np.round(P_Y_given_X)\n",
    "\n",
    "# calculate the accuracy\n",
    "def classification_rate(Y, P):\n",
    "    return np.mean(Y == P)\n",
    "\n",
    "print(\"Score:\", classification_rate(Y_train, predictions))"
   ]
  },
  {
   "cell_type": "markdown",
   "metadata": {},
   "source": [
    "Not that good, but this means that we need a way to find the correct values of $w_i$"
   ]
  },
  {
   "cell_type": "code",
   "execution_count": 15,
   "metadata": {},
   "outputs": [],
   "source": [
    "#First we define the error function that will be minimized\n",
    "def cross_entropy(T, y_pred):\n",
    "    return -np.mean((T*np.log(y_pred)) + (1-T)*np.log(1-y_pred))\n",
    "#The two list bellow are to graph at the end\n",
    "train_costs = []\n",
    "tests_costs = []"
   ]
  },
  {
   "cell_type": "code",
   "execution_count": 16,
   "metadata": {},
   "outputs": [
    {
     "name": "stdout",
     "output_type": "stream",
     "text": [
      "0 0.8560312897109597 0.8769794662329559\n",
      "1000 0.1697066545402953 0.23522487702628225\n",
      "2000 0.16955997484473584 0.2359171713459437\n",
      "3000 0.16955796294620196 0.23602191126436153\n",
      "4000 0.1695579319544615 0.23603525244786042\n",
      "5000 0.16955793147049336 0.23603692490365943\n",
      "6000 0.16955793146292367 0.23603713416049865\n",
      "7000 0.16955793146280504 0.23603716033634567\n",
      "8000 0.16955793146280337 0.2360371636105708\n",
      "9000 0.16955793146280315 0.2360371640201285\n"
     ]
    }
   ],
   "source": [
    "learning_rate = 0.002\n",
    "for i in range(10000):\n",
    "    pred_Y_train = forward(X_train, w, b)\n",
    "    pred_Y_test = forward(X_test, w, b)\n",
    "    \n",
    "    ctrain = cross_entropy(Y_train, pred_Y_train)\n",
    "    ctest = cross_entropy(Y_test, pred_Y_test)\n",
    "    train_costs.append(ctrain)\n",
    "    tests_costs.append(ctest)\n",
    "\n",
    "    #Let's make gradient descent\n",
    "    w -= learning_rate * X_train.T.dot(pred_Y_train - Y_train)\n",
    "    b -= learning_rate *(pred_Y_train-Y_train).sum()\n",
    "    if i %1000 == 0:\n",
    "        print(i,ctrain,ctest)"
   ]
  },
  {
   "cell_type": "code",
   "execution_count": 17,
   "metadata": {},
   "outputs": [
    {
     "name": "stdout",
     "output_type": "stream",
     "text": [
      "Final train classification rate: 0.9747634069400631\n",
      "Final test classification rate: 0.9753086419753086\n"
     ]
    },
    {
     "data": {
      "image/png": "[encoded data removed]",
      "text/plain": [
       "<Figure size 432x288 with 1 Axes>"
      ]
     },
     "metadata": {
      "needs_background": "light"
     },
     "output_type": "display_data"
    }
   ],
   "source": [
    "print(f\"Final train classification rate: {classification_rate(Y_train, np.round(pred_Y_train))}\")\n",
    "print(f\"Final test classification rate: {classification_rate(Y_test, np.round(pred_Y_test))}\")\n",
    "plt.plot(train_costs, label='train cost')\n",
    "plt.plot(tests_costs, label='test cost')\n",
    "plt.legend()\n",
    "plt.show()\n"
   ]
  }
 ],
 "metadata": {
  "kernelspec": {
   "display_name": "Python 3.10.1 64-bit",
   "language": "python",
   "name": "python3"
  },
  "language_info": {
   "codemirror_mode": {
    "name": "ipython",
    "version": 3
   },
   "file_extension": ".py",
   "mimetype": "text/x-python",
   "name": "python",
   "nbconvert_exporter": "python",
   "pygments_lexer": "ipython3",
   "version": "3.10.1"
  },
  "orig_nbformat": 4,
  "vscode": {
   "interpreter": {
    "hash": "5d5f6d68acdb98a666ac6cbb620ba0c7fef50210cfb22291f01e0bec12f8d8de"
   }
  }
 },
 "nbformat": 4,
 "nbformat_minor": 2
}
